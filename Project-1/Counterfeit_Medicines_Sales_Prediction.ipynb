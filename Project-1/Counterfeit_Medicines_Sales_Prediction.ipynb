{
 "cells": [
  {
   "cell_type": "markdown",
   "id": "e484f94a",
   "metadata": {},
   "source": [
    "# Counterfeit_Medicines_Sales_Prediction "
   ]
  },
  {
   "cell_type": "markdown",
   "id": "a94d6824",
   "metadata": {},
   "source": [
    "## **TASK**\n",
    "- To build predictive model for predicting sales figures given other information\n",
    "   related to counterfeit medicine selling operations."
   ]
  },
  {
   "cell_type": "code",
   "execution_count": 72,
   "id": "e86bfb2f",
   "metadata": {},
   "outputs": [],
   "source": [
    "# Libraries\n",
    "\n",
    "import pandas as pd\n",
    "from sklearn import linear_model\n",
    "import matplotlib.pyplot as plt\n",
    "import numpy as np\n",
    "import seaborn as sns\n",
    "\n",
    "%matplotlib inline\n",
    "\n",
    "from sklearn.preprocessing import StandardScaler,MinMaxScaler\n",
    "from sklearn.model_selection import train_test_split\n",
    "from sklearn.feature_selection import RFE\n",
    "from sklearn.model_selection import GridSearchCV\n",
    "from sklearn.linear_model import LinearRegression,Ridge,Lasso\n",
    "from sklearn.metrics import r2_score,mean_squared_error,mean_squared_log_error, mean_absolute_error\n",
    "from sklearn import metrics"
   ]
  },
  {
   "cell_type": "code",
   "execution_count": 23,
   "id": "d5d9375a",
   "metadata": {},
   "outputs": [],
   "source": [
    "# Igonring The Warnings\n",
    "\n",
    "import warnings\n",
    "warnings.filterwarnings(\"ignore\")\n",
    "warnings.simplefilter(action='ignore', category=FutureWarning)"
   ]
  },
  {
   "cell_type": "markdown",
   "id": "cf288093",
   "metadata": {},
   "source": [
    "##  Importing the data"
   ]
  },
  {
   "cell_type": "code",
   "execution_count": 8,
   "id": "c7ba64c6",
   "metadata": {},
   "outputs": [
    {
     "data": {
      "text/html": [
       "<div>\n",
       "<style scoped>\n",
       "    .dataframe tbody tr th:only-of-type {\n",
       "        vertical-align: middle;\n",
       "    }\n",
       "\n",
       "    .dataframe tbody tr th {\n",
       "        vertical-align: top;\n",
       "    }\n",
       "\n",
       "    .dataframe thead th {\n",
       "        text-align: right;\n",
       "    }\n",
       "</style>\n",
       "<table border=\"1\" class=\"dataframe\">\n",
       "  <thead>\n",
       "    <tr style=\"text-align: right;\">\n",
       "      <th></th>\n",
       "      <th>Medicine_ID</th>\n",
       "      <th>Counterfeit_Weight</th>\n",
       "      <th>DistArea_ID</th>\n",
       "      <th>Active_Since</th>\n",
       "      <th>Medicine_MRP</th>\n",
       "      <th>Medicine_Type</th>\n",
       "      <th>SidEffect_Level</th>\n",
       "      <th>Availability_rating</th>\n",
       "      <th>Area_Type</th>\n",
       "      <th>Area_City_Type</th>\n",
       "      <th>Area_dist_level</th>\n",
       "      <th>Counterfeit_Sales</th>\n",
       "    </tr>\n",
       "  </thead>\n",
       "  <tbody>\n",
       "    <tr>\n",
       "      <th>0</th>\n",
       "      <td>RRA15</td>\n",
       "      <td>13.100</td>\n",
       "      <td>Area046</td>\n",
       "      <td>1995</td>\n",
       "      <td>160.2366</td>\n",
       "      <td>Antimalarial</td>\n",
       "      <td>critical</td>\n",
       "      <td>0.070422</td>\n",
       "      <td>DownTown</td>\n",
       "      <td>Tier 1</td>\n",
       "      <td>Small</td>\n",
       "      <td>1775.5026</td>\n",
       "    </tr>\n",
       "    <tr>\n",
       "      <th>1</th>\n",
       "      <td>YVV26</td>\n",
       "      <td>NaN</td>\n",
       "      <td>Area027</td>\n",
       "      <td>1983</td>\n",
       "      <td>110.4384</td>\n",
       "      <td>Mstablizers</td>\n",
       "      <td>mild</td>\n",
       "      <td>0.013000</td>\n",
       "      <td>CityLimits</td>\n",
       "      <td>Tier 3</td>\n",
       "      <td>Medium</td>\n",
       "      <td>3069.1520</td>\n",
       "    </tr>\n",
       "    <tr>\n",
       "      <th>2</th>\n",
       "      <td>LJC15</td>\n",
       "      <td>9.025</td>\n",
       "      <td>Area046</td>\n",
       "      <td>1995</td>\n",
       "      <td>259.4092</td>\n",
       "      <td>Cardiac</td>\n",
       "      <td>mild</td>\n",
       "      <td>0.060783</td>\n",
       "      <td>DownTown</td>\n",
       "      <td>Tier 1</td>\n",
       "      <td>Small</td>\n",
       "      <td>2603.0920</td>\n",
       "    </tr>\n",
       "    <tr>\n",
       "      <th>3</th>\n",
       "      <td>GWC40</td>\n",
       "      <td>11.800</td>\n",
       "      <td>Area046</td>\n",
       "      <td>1995</td>\n",
       "      <td>99.9830</td>\n",
       "      <td>OralContraceptives</td>\n",
       "      <td>mild</td>\n",
       "      <td>0.065555</td>\n",
       "      <td>DownTown</td>\n",
       "      <td>Tier 1</td>\n",
       "      <td>Small</td>\n",
       "      <td>1101.7130</td>\n",
       "    </tr>\n",
       "    <tr>\n",
       "      <th>4</th>\n",
       "      <td>QMN13</td>\n",
       "      <td>NaN</td>\n",
       "      <td>Area019</td>\n",
       "      <td>1983</td>\n",
       "      <td>56.4402</td>\n",
       "      <td>Hreplacements</td>\n",
       "      <td>critical</td>\n",
       "      <td>0.248859</td>\n",
       "      <td>MidTownResidential</td>\n",
       "      <td>Tier 1</td>\n",
       "      <td>Small</td>\n",
       "      <td>158.9402</td>\n",
       "    </tr>\n",
       "  </tbody>\n",
       "</table>\n",
       "</div>"
      ],
      "text/plain": [
       "  Medicine_ID  Counterfeit_Weight DistArea_ID  Active_Since  Medicine_MRP   \n",
       "0       RRA15              13.100     Area046          1995      160.2366  \\\n",
       "1       YVV26                 NaN     Area027          1983      110.4384   \n",
       "2       LJC15               9.025     Area046          1995      259.4092   \n",
       "3       GWC40              11.800     Area046          1995       99.9830   \n",
       "4       QMN13                 NaN     Area019          1983       56.4402   \n",
       "\n",
       "        Medicine_Type SidEffect_Level  Availability_rating   \n",
       "0        Antimalarial        critical             0.070422  \\\n",
       "1         Mstablizers            mild             0.013000   \n",
       "2             Cardiac            mild             0.060783   \n",
       "3  OralContraceptives            mild             0.065555   \n",
       "4       Hreplacements        critical             0.248859   \n",
       "\n",
       "            Area_Type Area_City_Type Area_dist_level  Counterfeit_Sales  \n",
       "0            DownTown         Tier 1           Small          1775.5026  \n",
       "1          CityLimits         Tier 3          Medium          3069.1520  \n",
       "2            DownTown         Tier 1           Small          2603.0920  \n",
       "3            DownTown         Tier 1           Small          1101.7130  \n",
       "4  MidTownResidential         Tier 1           Small           158.9402  "
      ]
     },
     "execution_count": 8,
     "metadata": {},
     "output_type": "execute_result"
    }
   ],
   "source": [
    "df = pd.read_csv(\"C:/SAP_Code_Unnati/Project-1/counterfeit_train.csv\")\n",
    "df.head()"
   ]
  },
  {
   "cell_type": "code",
   "execution_count": 13,
   "id": "afa2535a",
   "metadata": {},
   "outputs": [
    {
     "data": {
      "text/plain": [
       "Index(['Medicine_ID', 'Counterfeit_Weight', 'DistArea_ID', 'Active_Since',\n",
       "       'Medicine_MRP', 'Medicine_Type', 'SidEffect_Level',\n",
       "       'Availability_rating', 'Area_Type', 'Area_City_Type', 'Area_dist_level',\n",
       "       'Counterfeit_Sales'],\n",
       "      dtype='object')"
      ]
     },
     "execution_count": 13,
     "metadata": {},
     "output_type": "execute_result"
    }
   ],
   "source": [
    "df.columns"
   ]
  },
  {
   "cell_type": "code",
   "execution_count": 14,
   "id": "16f21c0c",
   "metadata": {},
   "outputs": [
    {
     "data": {
      "text/plain": [
       "<bound method NDFrame.describe of      Medicine_ID  Counterfeit_Weight DistArea_ID  Active_Since  Medicine_MRP   \n",
       "0          RRA15              13.100     Area046          1995      160.2366  \\\n",
       "1          YVV26                 NaN     Area027          1983      110.4384   \n",
       "2          LJC15               9.025     Area046          1995      259.4092   \n",
       "3          GWC40              11.800     Area046          1995       99.9830   \n",
       "4          QMN13                 NaN     Area019          1983       56.4402   \n",
       "...          ...                 ...         ...           ...           ...   \n",
       "6813       OYN80               8.535     Area046          1995      204.1452   \n",
       "6814       ACW12              20.650     Area046          1995      235.1088   \n",
       "6815       OPM10              20.000     Area017          2005      193.6292   \n",
       "6816       SLY12              10.180     Area045          2000      162.8682   \n",
       "6817       ATT10               7.930     Area018          2007      177.5500   \n",
       "\n",
       "           Medicine_Type SidEffect_Level  Availability_rating   \n",
       "0           Antimalarial        critical             0.070422  \\\n",
       "1            Mstablizers            mild             0.013000   \n",
       "2                Cardiac            mild             0.060783   \n",
       "3     OralContraceptives            mild             0.065555   \n",
       "4          Hreplacements        critical             0.248859   \n",
       "...                  ...             ...                  ...   \n",
       "6813       Hreplacements            mild             0.112963   \n",
       "6814       Hreplacements            mild             0.131103   \n",
       "6815        Antimalarial        critical             0.105096   \n",
       "6816             Statins            mild             0.099957   \n",
       "6817         Mstablizers        critical             0.117445   \n",
       "\n",
       "               Area_Type Area_City_Type Area_dist_level  Counterfeit_Sales  \n",
       "0               DownTown         Tier 1           Small          1775.5026  \n",
       "1             CityLimits         Tier 3          Medium          3069.1520  \n",
       "2               DownTown         Tier 1           Small          2603.0920  \n",
       "3               DownTown         Tier 1           Small          1101.7130  \n",
       "4     MidTownResidential         Tier 1           Small           158.9402  \n",
       "...                  ...            ...             ...                ...  \n",
       "6813            DownTown         Tier 1           Small          2070.4520  \n",
       "6814            DownTown         Tier 1           Small          2126.3792  \n",
       "6815            DownTown         Tier 2         Unknown          2119.7212  \n",
       "6816            DownTown         Tier 2         Unknown          1485.2138  \n",
       "6817          Industrial         Tier 3          Medium          1943.9500  \n",
       "\n",
       "[6818 rows x 12 columns]>"
      ]
     },
     "execution_count": 14,
     "metadata": {},
     "output_type": "execute_result"
    }
   ],
   "source": [
    "df.describe"
   ]
  },
  {
   "cell_type": "markdown",
   "id": "caa84ac5",
   "metadata": {},
   "source": [
    "##  Making a Backup of dataFrame"
   ]
  },
  {
   "cell_type": "code",
   "execution_count": 15,
   "id": "db1b77a5",
   "metadata": {},
   "outputs": [],
   "source": [
    "df_bkp = df.copy"
   ]
  },
  {
   "cell_type": "code",
   "execution_count": 18,
   "id": "4ab99641",
   "metadata": {},
   "outputs": [
    {
     "data": {
      "text/html": [
       "<div>\n",
       "<style scoped>\n",
       "    .dataframe tbody tr th:only-of-type {\n",
       "        vertical-align: middle;\n",
       "    }\n",
       "\n",
       "    .dataframe tbody tr th {\n",
       "        vertical-align: top;\n",
       "    }\n",
       "\n",
       "    .dataframe thead th {\n",
       "        text-align: right;\n",
       "    }\n",
       "</style>\n",
       "<table border=\"1\" class=\"dataframe\">\n",
       "  <thead>\n",
       "    <tr style=\"text-align: right;\">\n",
       "      <th></th>\n",
       "      <th>Medicine_ID</th>\n",
       "      <th>Counterfeit_Weight</th>\n",
       "      <th>DistArea_ID</th>\n",
       "      <th>Active_Since</th>\n",
       "      <th>Medicine_MRP</th>\n",
       "      <th>Medicine_Type</th>\n",
       "      <th>SidEffect_Level</th>\n",
       "      <th>Availability_rating</th>\n",
       "      <th>Area_Type</th>\n",
       "      <th>Area_City_Type</th>\n",
       "      <th>Area_dist_level</th>\n",
       "      <th>Counterfeit_Sales</th>\n",
       "    </tr>\n",
       "  </thead>\n",
       "  <tbody>\n",
       "    <tr>\n",
       "      <th>0</th>\n",
       "      <td>RRA15</td>\n",
       "      <td>13.100</td>\n",
       "      <td>Area046</td>\n",
       "      <td>1995</td>\n",
       "      <td>160.2366</td>\n",
       "      <td>Antimalarial</td>\n",
       "      <td>critical</td>\n",
       "      <td>0.070422</td>\n",
       "      <td>DownTown</td>\n",
       "      <td>Tier 1</td>\n",
       "      <td>Small</td>\n",
       "      <td>1775.5026</td>\n",
       "    </tr>\n",
       "    <tr>\n",
       "      <th>1</th>\n",
       "      <td>YVV26</td>\n",
       "      <td>NaN</td>\n",
       "      <td>Area027</td>\n",
       "      <td>1983</td>\n",
       "      <td>110.4384</td>\n",
       "      <td>Mstablizers</td>\n",
       "      <td>mild</td>\n",
       "      <td>0.013000</td>\n",
       "      <td>CityLimits</td>\n",
       "      <td>Tier 3</td>\n",
       "      <td>Medium</td>\n",
       "      <td>3069.1520</td>\n",
       "    </tr>\n",
       "    <tr>\n",
       "      <th>2</th>\n",
       "      <td>LJC15</td>\n",
       "      <td>9.025</td>\n",
       "      <td>Area046</td>\n",
       "      <td>1995</td>\n",
       "      <td>259.4092</td>\n",
       "      <td>Cardiac</td>\n",
       "      <td>mild</td>\n",
       "      <td>0.060783</td>\n",
       "      <td>DownTown</td>\n",
       "      <td>Tier 1</td>\n",
       "      <td>Small</td>\n",
       "      <td>2603.0920</td>\n",
       "    </tr>\n",
       "    <tr>\n",
       "      <th>3</th>\n",
       "      <td>GWC40</td>\n",
       "      <td>11.800</td>\n",
       "      <td>Area046</td>\n",
       "      <td>1995</td>\n",
       "      <td>99.9830</td>\n",
       "      <td>OralContraceptives</td>\n",
       "      <td>mild</td>\n",
       "      <td>0.065555</td>\n",
       "      <td>DownTown</td>\n",
       "      <td>Tier 1</td>\n",
       "      <td>Small</td>\n",
       "      <td>1101.7130</td>\n",
       "    </tr>\n",
       "    <tr>\n",
       "      <th>4</th>\n",
       "      <td>QMN13</td>\n",
       "      <td>NaN</td>\n",
       "      <td>Area019</td>\n",
       "      <td>1983</td>\n",
       "      <td>56.4402</td>\n",
       "      <td>Hreplacements</td>\n",
       "      <td>critical</td>\n",
       "      <td>0.248859</td>\n",
       "      <td>MidTownResidential</td>\n",
       "      <td>Tier 1</td>\n",
       "      <td>Small</td>\n",
       "      <td>158.9402</td>\n",
       "    </tr>\n",
       "  </tbody>\n",
       "</table>\n",
       "</div>"
      ],
      "text/plain": [
       "  Medicine_ID  Counterfeit_Weight DistArea_ID  Active_Since  Medicine_MRP   \n",
       "0       RRA15              13.100     Area046          1995      160.2366  \\\n",
       "1       YVV26                 NaN     Area027          1983      110.4384   \n",
       "2       LJC15               9.025     Area046          1995      259.4092   \n",
       "3       GWC40              11.800     Area046          1995       99.9830   \n",
       "4       QMN13                 NaN     Area019          1983       56.4402   \n",
       "\n",
       "        Medicine_Type SidEffect_Level  Availability_rating   \n",
       "0        Antimalarial        critical             0.070422  \\\n",
       "1         Mstablizers            mild             0.013000   \n",
       "2             Cardiac            mild             0.060783   \n",
       "3  OralContraceptives            mild             0.065555   \n",
       "4       Hreplacements        critical             0.248859   \n",
       "\n",
       "            Area_Type Area_City_Type Area_dist_level  Counterfeit_Sales  \n",
       "0            DownTown         Tier 1           Small          1775.5026  \n",
       "1          CityLimits         Tier 3          Medium          3069.1520  \n",
       "2            DownTown         Tier 1           Small          2603.0920  \n",
       "3            DownTown         Tier 1           Small          1101.7130  \n",
       "4  MidTownResidential         Tier 1           Small           158.9402  "
      ]
     },
     "execution_count": 18,
     "metadata": {},
     "output_type": "execute_result"
    }
   ],
   "source": [
    "df.head()"
   ]
  },
  {
   "cell_type": "code",
   "execution_count": 19,
   "id": "3680b977",
   "metadata": {},
   "outputs": [
    {
     "data": {
      "text/plain": [
       "Medicine_ID               0\n",
       "Counterfeit_Weight     1166\n",
       "DistArea_ID               0\n",
       "Active_Since              0\n",
       "Medicine_MRP              0\n",
       "Medicine_Type             0\n",
       "SidEffect_Level           0\n",
       "Availability_rating       0\n",
       "Area_Type                 0\n",
       "Area_City_Type            0\n",
       "Area_dist_level           0\n",
       "Counterfeit_Sales         0\n",
       "dtype: int64"
      ]
     },
     "execution_count": 19,
     "metadata": {},
     "output_type": "execute_result"
    }
   ],
   "source": [
    "df.isna().sum()"
   ]
  },
  {
   "cell_type": "code",
   "execution_count": 22,
   "id": "2112a397",
   "metadata": {},
   "outputs": [
    {
     "name": "stdout",
     "output_type": "stream",
     "text": [
      "<class 'pandas.core.frame.DataFrame'>\n",
      "RangeIndex: 6818 entries, 0 to 6817\n",
      "Data columns (total 12 columns):\n",
      " #   Column               Non-Null Count  Dtype  \n",
      "---  ------               --------------  -----  \n",
      " 0   Medicine_ID          6818 non-null   object \n",
      " 1   Counterfeit_Weight   5652 non-null   float64\n",
      " 2   DistArea_ID          6818 non-null   object \n",
      " 3   Active_Since         6818 non-null   int64  \n",
      " 4   Medicine_MRP         6818 non-null   float64\n",
      " 5   Medicine_Type        6818 non-null   object \n",
      " 6   SidEffect_Level      6818 non-null   object \n",
      " 7   Availability_rating  6818 non-null   float64\n",
      " 8   Area_Type            6818 non-null   object \n",
      " 9   Area_City_Type       6818 non-null   object \n",
      " 10  Area_dist_level      6818 non-null   object \n",
      " 11  Counterfeit_Sales    6818 non-null   float64\n",
      "dtypes: float64(4), int64(1), object(7)\n",
      "memory usage: 639.3+ KB\n"
     ]
    }
   ],
   "source": [
    "df.info()"
   ]
  },
  {
   "cell_type": "code",
   "execution_count": 25,
   "id": "24f5c0a7",
   "metadata": {},
   "outputs": [
    {
     "data": {
      "text/html": [
       "<div>\n",
       "<style scoped>\n",
       "    .dataframe tbody tr th:only-of-type {\n",
       "        vertical-align: middle;\n",
       "    }\n",
       "\n",
       "    .dataframe tbody tr th {\n",
       "        vertical-align: top;\n",
       "    }\n",
       "\n",
       "    .dataframe thead th {\n",
       "        text-align: right;\n",
       "    }\n",
       "</style>\n",
       "<table border=\"1\" class=\"dataframe\">\n",
       "  <thead>\n",
       "    <tr style=\"text-align: right;\">\n",
       "      <th></th>\n",
       "      <th>Medicine_ID</th>\n",
       "      <th>Counterfeit_Weight</th>\n",
       "      <th>DistArea_ID</th>\n",
       "      <th>Active_Since</th>\n",
       "      <th>Medicine_MRP</th>\n",
       "      <th>Medicine_Type</th>\n",
       "      <th>SidEffect_Level</th>\n",
       "      <th>Availability_rating</th>\n",
       "      <th>Area_Type</th>\n",
       "      <th>Area_City_Type</th>\n",
       "      <th>Area_dist_level</th>\n",
       "      <th>Counterfeit_Sales</th>\n",
       "    </tr>\n",
       "  </thead>\n",
       "  <tbody>\n",
       "    <tr>\n",
       "      <th>count</th>\n",
       "      <td>6818</td>\n",
       "      <td>5652.000000</td>\n",
       "      <td>6818</td>\n",
       "      <td>6818.000000</td>\n",
       "      <td>6818.000000</td>\n",
       "      <td>6818</td>\n",
       "      <td>6818</td>\n",
       "      <td>6818.000000</td>\n",
       "      <td>6818</td>\n",
       "      <td>6818</td>\n",
       "      <td>6818</td>\n",
       "      <td>6818.000000</td>\n",
       "    </tr>\n",
       "    <tr>\n",
       "      <th>unique</th>\n",
       "      <td>1557</td>\n",
       "      <td>NaN</td>\n",
       "      <td>10</td>\n",
       "      <td>NaN</td>\n",
       "      <td>NaN</td>\n",
       "      <td>16</td>\n",
       "      <td>2</td>\n",
       "      <td>NaN</td>\n",
       "      <td>4</td>\n",
       "      <td>3</td>\n",
       "      <td>4</td>\n",
       "      <td>NaN</td>\n",
       "    </tr>\n",
       "    <tr>\n",
       "      <th>top</th>\n",
       "      <td>RQS74</td>\n",
       "      <td>NaN</td>\n",
       "      <td>Area017</td>\n",
       "      <td>NaN</td>\n",
       "      <td>NaN</td>\n",
       "      <td>Hreplacements</td>\n",
       "      <td>mild</td>\n",
       "      <td>NaN</td>\n",
       "      <td>DownTown</td>\n",
       "      <td>Tier 3</td>\n",
       "      <td>Medium</td>\n",
       "      <td>NaN</td>\n",
       "    </tr>\n",
       "    <tr>\n",
       "      <th>freq</th>\n",
       "      <td>9</td>\n",
       "      <td>NaN</td>\n",
       "      <td>760</td>\n",
       "      <td>NaN</td>\n",
       "      <td>NaN</td>\n",
       "      <td>976</td>\n",
       "      <td>4434</td>\n",
       "      <td>NaN</td>\n",
       "      <td>4481</td>\n",
       "      <td>2655</td>\n",
       "      <td>2203</td>\n",
       "      <td>NaN</td>\n",
       "    </tr>\n",
       "    <tr>\n",
       "      <th>mean</th>\n",
       "      <td>NaN</td>\n",
       "      <td>14.115057</td>\n",
       "      <td>NaN</td>\n",
       "      <td>1995.836316</td>\n",
       "      <td>151.401518</td>\n",
       "      <td>NaN</td>\n",
       "      <td>NaN</td>\n",
       "      <td>0.079174</td>\n",
       "      <td>NaN</td>\n",
       "      <td>NaN</td>\n",
       "      <td>NaN</td>\n",
       "      <td>2280.583480</td>\n",
       "    </tr>\n",
       "    <tr>\n",
       "      <th>std</th>\n",
       "      <td>NaN</td>\n",
       "      <td>4.649668</td>\n",
       "      <td>NaN</td>\n",
       "      <td>8.368979</td>\n",
       "      <td>62.203961</td>\n",
       "      <td>NaN</td>\n",
       "      <td>NaN</td>\n",
       "      <td>0.051481</td>\n",
       "      <td>NaN</td>\n",
       "      <td>NaN</td>\n",
       "      <td>NaN</td>\n",
       "      <td>1693.354404</td>\n",
       "    </tr>\n",
       "    <tr>\n",
       "      <th>min</th>\n",
       "      <td>NaN</td>\n",
       "      <td>5.855000</td>\n",
       "      <td>NaN</td>\n",
       "      <td>1983.000000</td>\n",
       "      <td>41.790000</td>\n",
       "      <td>NaN</td>\n",
       "      <td>NaN</td>\n",
       "      <td>0.013000</td>\n",
       "      <td>NaN</td>\n",
       "      <td>NaN</td>\n",
       "      <td>NaN</td>\n",
       "      <td>146.290000</td>\n",
       "    </tr>\n",
       "    <tr>\n",
       "      <th>25%</th>\n",
       "      <td>NaN</td>\n",
       "      <td>9.995000</td>\n",
       "      <td>NaN</td>\n",
       "      <td>1985.000000</td>\n",
       "      <td>104.509400</td>\n",
       "      <td>NaN</td>\n",
       "      <td>NaN</td>\n",
       "      <td>0.040058</td>\n",
       "      <td>NaN</td>\n",
       "      <td>NaN</td>\n",
       "      <td>NaN</td>\n",
       "      <td>933.265600</td>\n",
       "    </tr>\n",
       "    <tr>\n",
       "      <th>50%</th>\n",
       "      <td>NaN</td>\n",
       "      <td>13.800000</td>\n",
       "      <td>NaN</td>\n",
       "      <td>1997.000000</td>\n",
       "      <td>153.195700</td>\n",
       "      <td>NaN</td>\n",
       "      <td>NaN</td>\n",
       "      <td>0.066955</td>\n",
       "      <td>NaN</td>\n",
       "      <td>NaN</td>\n",
       "      <td>NaN</td>\n",
       "      <td>1902.670400</td>\n",
       "    </tr>\n",
       "    <tr>\n",
       "      <th>75%</th>\n",
       "      <td>NaN</td>\n",
       "      <td>18.050000</td>\n",
       "      <td>NaN</td>\n",
       "      <td>2002.000000</td>\n",
       "      <td>196.148350</td>\n",
       "      <td>NaN</td>\n",
       "      <td>NaN</td>\n",
       "      <td>0.107697</td>\n",
       "      <td>NaN</td>\n",
       "      <td>NaN</td>\n",
       "      <td>NaN</td>\n",
       "      <td>3207.638400</td>\n",
       "    </tr>\n",
       "    <tr>\n",
       "      <th>max</th>\n",
       "      <td>NaN</td>\n",
       "      <td>22.650000</td>\n",
       "      <td>NaN</td>\n",
       "      <td>2007.000000</td>\n",
       "      <td>277.188400</td>\n",
       "      <td>NaN</td>\n",
       "      <td>NaN</td>\n",
       "      <td>0.341391</td>\n",
       "      <td>NaN</td>\n",
       "      <td>NaN</td>\n",
       "      <td>NaN</td>\n",
       "      <td>13199.964800</td>\n",
       "    </tr>\n",
       "  </tbody>\n",
       "</table>\n",
       "</div>"
      ],
      "text/plain": [
       "       Medicine_ID  Counterfeit_Weight DistArea_ID  Active_Since   \n",
       "count         6818         5652.000000        6818   6818.000000  \\\n",
       "unique        1557                 NaN          10           NaN   \n",
       "top          RQS74                 NaN     Area017           NaN   \n",
       "freq             9                 NaN         760           NaN   \n",
       "mean           NaN           14.115057         NaN   1995.836316   \n",
       "std            NaN            4.649668         NaN      8.368979   \n",
       "min            NaN            5.855000         NaN   1983.000000   \n",
       "25%            NaN            9.995000         NaN   1985.000000   \n",
       "50%            NaN           13.800000         NaN   1997.000000   \n",
       "75%            NaN           18.050000         NaN   2002.000000   \n",
       "max            NaN           22.650000         NaN   2007.000000   \n",
       "\n",
       "        Medicine_MRP  Medicine_Type SidEffect_Level  Availability_rating   \n",
       "count    6818.000000           6818            6818          6818.000000  \\\n",
       "unique           NaN             16               2                  NaN   \n",
       "top              NaN  Hreplacements            mild                  NaN   \n",
       "freq             NaN            976            4434                  NaN   \n",
       "mean      151.401518            NaN             NaN             0.079174   \n",
       "std        62.203961            NaN             NaN             0.051481   \n",
       "min        41.790000            NaN             NaN             0.013000   \n",
       "25%       104.509400            NaN             NaN             0.040058   \n",
       "50%       153.195700            NaN             NaN             0.066955   \n",
       "75%       196.148350            NaN             NaN             0.107697   \n",
       "max       277.188400            NaN             NaN             0.341391   \n",
       "\n",
       "       Area_Type Area_City_Type Area_dist_level  Counterfeit_Sales  \n",
       "count       6818           6818            6818        6818.000000  \n",
       "unique         4              3               4                NaN  \n",
       "top     DownTown         Tier 3          Medium                NaN  \n",
       "freq        4481           2655            2203                NaN  \n",
       "mean         NaN            NaN             NaN        2280.583480  \n",
       "std          NaN            NaN             NaN        1693.354404  \n",
       "min          NaN            NaN             NaN         146.290000  \n",
       "25%          NaN            NaN             NaN         933.265600  \n",
       "50%          NaN            NaN             NaN        1902.670400  \n",
       "75%          NaN            NaN             NaN        3207.638400  \n",
       "max          NaN            NaN             NaN       13199.964800  "
      ]
     },
     "execution_count": 25,
     "metadata": {},
     "output_type": "execute_result"
    }
   ],
   "source": [
    "df.describe(include=\"all\")"
   ]
  },
  {
   "cell_type": "code",
   "execution_count": 26,
   "id": "d3a27420",
   "metadata": {},
   "outputs": [
    {
     "data": {
      "text/plain": [
       "(6818, 12)"
      ]
     },
     "execution_count": 26,
     "metadata": {},
     "output_type": "execute_result"
    }
   ],
   "source": [
    "df.shape"
   ]
  },
  {
   "cell_type": "markdown",
   "id": "57e435b1",
   "metadata": {},
   "source": [
    "#  Data Visualization"
   ]
  },
  {
   "cell_type": "code",
   "execution_count": null,
   "id": "a8dedbd8",
   "metadata": {},
   "outputs": [],
   "source": []
  },
  {
   "cell_type": "markdown",
   "id": "c52185d0",
   "metadata": {},
   "source": [
    "## Converting Strings Into Categories "
   ]
  },
  {
   "cell_type": "code",
   "execution_count": 28,
   "id": "928daccb",
   "metadata": {},
   "outputs": [
    {
     "data": {
      "text/plain": [
       "True"
      ]
     },
     "execution_count": 28,
     "metadata": {},
     "output_type": "execute_result"
    }
   ],
   "source": [
    "pd.api.types.is_string_dtype(df[\"Area_Type\"])"
   ]
  },
  {
   "cell_type": "code",
   "execution_count": 30,
   "id": "1c55d481",
   "metadata": {},
   "outputs": [],
   "source": [
    "# Find the columns which contains strings and convert them into category.\n",
    "for label, content in df.items():\n",
    "    if pd.api.types.is_string_dtype(content):\n",
    "        df[label] = content.astype(\"category\").cat.as_ordered()"
   ]
  },
  {
   "cell_type": "code",
   "execution_count": 31,
   "id": "d2229837",
   "metadata": {},
   "outputs": [
    {
     "name": "stdout",
     "output_type": "stream",
     "text": [
      "<class 'pandas.core.frame.DataFrame'>\n",
      "RangeIndex: 6818 entries, 0 to 6817\n",
      "Data columns (total 12 columns):\n",
      " #   Column               Non-Null Count  Dtype   \n",
      "---  ------               --------------  -----   \n",
      " 0   Medicine_ID          6818 non-null   category\n",
      " 1   Counterfeit_Weight   5652 non-null   float64 \n",
      " 2   DistArea_ID          6818 non-null   category\n",
      " 3   Active_Since         6818 non-null   int64   \n",
      " 4   Medicine_MRP         6818 non-null   float64 \n",
      " 5   Medicine_Type        6818 non-null   category\n",
      " 6   SidEffect_Level      6818 non-null   category\n",
      " 7   Availability_rating  6818 non-null   float64 \n",
      " 8   Area_Type            6818 non-null   category\n",
      " 9   Area_City_Type       6818 non-null   category\n",
      " 10  Area_dist_level      6818 non-null   category\n",
      " 11  Counterfeit_Sales    6818 non-null   float64 \n",
      "dtypes: category(7), float64(4), int64(1)\n",
      "memory usage: 365.9 KB\n"
     ]
    }
   ],
   "source": [
    "df.info()"
   ]
  },
  {
   "cell_type": "markdown",
   "id": "9036c128",
   "metadata": {},
   "source": [
    "### Machine Learning Models can not work on categorical variables in the form of strings, so we need to change it into numerical form. This can be done by making new features according to the categories by assigning it values"
   ]
  },
  {
   "cell_type": "code",
   "execution_count": 32,
   "id": "55eccfef",
   "metadata": {},
   "outputs": [
    {
     "data": {
      "text/plain": [
       "Medicine_ID            0.000000\n",
       "Counterfeit_Weight     0.171018\n",
       "DistArea_ID            0.000000\n",
       "Active_Since           0.000000\n",
       "Medicine_MRP           0.000000\n",
       "Medicine_Type          0.000000\n",
       "SidEffect_Level        0.000000\n",
       "Availability_rating    0.000000\n",
       "Area_Type              0.000000\n",
       "Area_City_Type         0.000000\n",
       "Area_dist_level        0.000000\n",
       "Counterfeit_Sales      0.000000\n",
       "dtype: float64"
      ]
     },
     "execution_count": 32,
     "metadata": {},
     "output_type": "execute_result"
    }
   ],
   "source": [
    "# Check missing data.\n",
    "df.isnull().sum()/len(df)"
   ]
  },
  {
   "cell_type": "markdown",
   "id": "7a7f37c8",
   "metadata": {},
   "source": [
    "## Missing Value Imputation"
   ]
  },
  {
   "cell_type": "markdown",
   "id": "2861b8e3",
   "metadata": {},
   "source": [
    "## 1. Fill numerical Missing Values"
   ]
  },
  {
   "cell_type": "code",
   "execution_count": 33,
   "id": "461d921b",
   "metadata": {},
   "outputs": [
    {
     "name": "stdout",
     "output_type": "stream",
     "text": [
      "Counterfeit_Weight\n"
     ]
    }
   ],
   "source": [
    "# Check for which numeric columns have null values.\n",
    "for label, content in df.items():\n",
    "    if pd.api.types.is_numeric_dtype(content):\n",
    "        if pd.isnull(content).sum():\n",
    "            print(label)"
   ]
  },
  {
   "cell_type": "code",
   "execution_count": 35,
   "id": "5023b8f6",
   "metadata": {},
   "outputs": [],
   "source": [
    "# Fill the numeric rows with median.\n",
    "for label, content in df.items():\n",
    "    if pd.api.types.is_numeric_dtype(content):\n",
    "        if pd.isnull(content).sum():\n",
    "            # Add a binary column which tells is if the data was missing or not.\n",
    "            df[label+\"_is_missing\"] = pd.isnull(content)\n",
    "            # Fill missing numeric values with median.\n",
    "            df[label] = content.fillna(content.median())"
   ]
  },
  {
   "cell_type": "code",
   "execution_count": 36,
   "id": "e633298e",
   "metadata": {},
   "outputs": [
    {
     "data": {
      "text/html": [
       "<div>\n",
       "<style scoped>\n",
       "    .dataframe tbody tr th:only-of-type {\n",
       "        vertical-align: middle;\n",
       "    }\n",
       "\n",
       "    .dataframe tbody tr th {\n",
       "        vertical-align: top;\n",
       "    }\n",
       "\n",
       "    .dataframe thead th {\n",
       "        text-align: right;\n",
       "    }\n",
       "</style>\n",
       "<table border=\"1\" class=\"dataframe\">\n",
       "  <thead>\n",
       "    <tr style=\"text-align: right;\">\n",
       "      <th></th>\n",
       "      <th>Medicine_ID</th>\n",
       "      <th>Counterfeit_Weight</th>\n",
       "      <th>DistArea_ID</th>\n",
       "      <th>Active_Since</th>\n",
       "      <th>Medicine_MRP</th>\n",
       "      <th>Medicine_Type</th>\n",
       "      <th>SidEffect_Level</th>\n",
       "      <th>Availability_rating</th>\n",
       "      <th>Area_Type</th>\n",
       "      <th>Area_City_Type</th>\n",
       "      <th>Area_dist_level</th>\n",
       "      <th>Counterfeit_Sales</th>\n",
       "      <th>Counterfeit_Weight_is_missing</th>\n",
       "    </tr>\n",
       "  </thead>\n",
       "  <tbody>\n",
       "    <tr>\n",
       "      <th>0</th>\n",
       "      <td>RRA15</td>\n",
       "      <td>13.100</td>\n",
       "      <td>Area046</td>\n",
       "      <td>1995</td>\n",
       "      <td>160.2366</td>\n",
       "      <td>Antimalarial</td>\n",
       "      <td>critical</td>\n",
       "      <td>0.070422</td>\n",
       "      <td>DownTown</td>\n",
       "      <td>Tier 1</td>\n",
       "      <td>Small</td>\n",
       "      <td>1775.5026</td>\n",
       "      <td>False</td>\n",
       "    </tr>\n",
       "    <tr>\n",
       "      <th>1</th>\n",
       "      <td>YVV26</td>\n",
       "      <td>13.800</td>\n",
       "      <td>Area027</td>\n",
       "      <td>1983</td>\n",
       "      <td>110.4384</td>\n",
       "      <td>Mstablizers</td>\n",
       "      <td>mild</td>\n",
       "      <td>0.013000</td>\n",
       "      <td>CityLimits</td>\n",
       "      <td>Tier 3</td>\n",
       "      <td>Medium</td>\n",
       "      <td>3069.1520</td>\n",
       "      <td>True</td>\n",
       "    </tr>\n",
       "    <tr>\n",
       "      <th>2</th>\n",
       "      <td>LJC15</td>\n",
       "      <td>9.025</td>\n",
       "      <td>Area046</td>\n",
       "      <td>1995</td>\n",
       "      <td>259.4092</td>\n",
       "      <td>Cardiac</td>\n",
       "      <td>mild</td>\n",
       "      <td>0.060783</td>\n",
       "      <td>DownTown</td>\n",
       "      <td>Tier 1</td>\n",
       "      <td>Small</td>\n",
       "      <td>2603.0920</td>\n",
       "      <td>False</td>\n",
       "    </tr>\n",
       "    <tr>\n",
       "      <th>3</th>\n",
       "      <td>GWC40</td>\n",
       "      <td>11.800</td>\n",
       "      <td>Area046</td>\n",
       "      <td>1995</td>\n",
       "      <td>99.9830</td>\n",
       "      <td>OralContraceptives</td>\n",
       "      <td>mild</td>\n",
       "      <td>0.065555</td>\n",
       "      <td>DownTown</td>\n",
       "      <td>Tier 1</td>\n",
       "      <td>Small</td>\n",
       "      <td>1101.7130</td>\n",
       "      <td>False</td>\n",
       "    </tr>\n",
       "    <tr>\n",
       "      <th>4</th>\n",
       "      <td>QMN13</td>\n",
       "      <td>13.800</td>\n",
       "      <td>Area019</td>\n",
       "      <td>1983</td>\n",
       "      <td>56.4402</td>\n",
       "      <td>Hreplacements</td>\n",
       "      <td>critical</td>\n",
       "      <td>0.248859</td>\n",
       "      <td>MidTownResidential</td>\n",
       "      <td>Tier 1</td>\n",
       "      <td>Small</td>\n",
       "      <td>158.9402</td>\n",
       "      <td>True</td>\n",
       "    </tr>\n",
       "  </tbody>\n",
       "</table>\n",
       "</div>"
      ],
      "text/plain": [
       "  Medicine_ID  Counterfeit_Weight DistArea_ID  Active_Since  Medicine_MRP   \n",
       "0       RRA15              13.100     Area046          1995      160.2366  \\\n",
       "1       YVV26              13.800     Area027          1983      110.4384   \n",
       "2       LJC15               9.025     Area046          1995      259.4092   \n",
       "3       GWC40              11.800     Area046          1995       99.9830   \n",
       "4       QMN13              13.800     Area019          1983       56.4402   \n",
       "\n",
       "        Medicine_Type SidEffect_Level  Availability_rating   \n",
       "0        Antimalarial        critical             0.070422  \\\n",
       "1         Mstablizers            mild             0.013000   \n",
       "2             Cardiac            mild             0.060783   \n",
       "3  OralContraceptives            mild             0.065555   \n",
       "4       Hreplacements        critical             0.248859   \n",
       "\n",
       "            Area_Type Area_City_Type Area_dist_level  Counterfeit_Sales   \n",
       "0            DownTown         Tier 1           Small          1775.5026  \\\n",
       "1          CityLimits         Tier 3          Medium          3069.1520   \n",
       "2            DownTown         Tier 1           Small          2603.0920   \n",
       "3            DownTown         Tier 1           Small          1101.7130   \n",
       "4  MidTownResidential         Tier 1           Small           158.9402   \n",
       "\n",
       "   Counterfeit_Weight_is_missing  \n",
       "0                          False  \n",
       "1                           True  \n",
       "2                          False  \n",
       "3                          False  \n",
       "4                           True  "
      ]
     },
     "execution_count": 36,
     "metadata": {},
     "output_type": "execute_result"
    }
   ],
   "source": [
    "df.head()"
   ]
  },
  {
   "cell_type": "code",
   "execution_count": 38,
   "id": "c51a92f5",
   "metadata": {},
   "outputs": [
    {
     "data": {
      "text/plain": [
       "0"
      ]
     },
     "execution_count": 38,
     "metadata": {},
     "output_type": "execute_result"
    }
   ],
   "source": [
    "df.isna().sum().sum()"
   ]
  },
  {
   "cell_type": "code",
   "execution_count": 39,
   "id": "8761592c",
   "metadata": {},
   "outputs": [
    {
     "name": "stdout",
     "output_type": "stream",
     "text": [
      "<class 'pandas.core.frame.DataFrame'>\n",
      "RangeIndex: 6818 entries, 0 to 6817\n",
      "Data columns (total 13 columns):\n",
      " #   Column                         Non-Null Count  Dtype   \n",
      "---  ------                         --------------  -----   \n",
      " 0   Medicine_ID                    6818 non-null   category\n",
      " 1   Counterfeit_Weight             6818 non-null   float64 \n",
      " 2   DistArea_ID                    6818 non-null   category\n",
      " 3   Active_Since                   6818 non-null   int64   \n",
      " 4   Medicine_MRP                   6818 non-null   float64 \n",
      " 5   Medicine_Type                  6818 non-null   category\n",
      " 6   SidEffect_Level                6818 non-null   category\n",
      " 7   Availability_rating            6818 non-null   float64 \n",
      " 8   Area_Type                      6818 non-null   category\n",
      " 9   Area_City_Type                 6818 non-null   category\n",
      " 10  Area_dist_level                6818 non-null   category\n",
      " 11  Counterfeit_Sales              6818 non-null   float64 \n",
      " 12  Counterfeit_Weight_is_missing  6818 non-null   bool    \n",
      "dtypes: bool(1), category(7), float64(4), int64(1)\n",
      "memory usage: 372.5 KB\n"
     ]
    }
   ],
   "source": [
    "df.info()"
   ]
  },
  {
   "cell_type": "markdown",
   "id": "48316fe9",
   "metadata": {},
   "source": [
    "#  We are using `median` instead of mean bcause median is more robust to outliers than mean. The elements of the dataset will not affect the median of the dataset but it will to the mean."
   ]
  },
  {
   "cell_type": "code",
   "execution_count": 40,
   "id": "01f388c5",
   "metadata": {},
   "outputs": [],
   "source": [
    "# Check if there is any numerical missing value.\n",
    "for label, content in df.items():\n",
    "    if pd.api.types.is_numeric_dtype(content):\n",
    "        if pd.isnull(content).sum():\n",
    "            print(label)"
   ]
  },
  {
   "cell_type": "markdown",
   "id": "5868a3d5",
   "metadata": {},
   "source": [
    "##  Filling and turning Categorical variables into numbers "
   ]
  },
  {
   "cell_type": "code",
   "execution_count": 41,
   "id": "4306d400",
   "metadata": {},
   "outputs": [
    {
     "name": "stdout",
     "output_type": "stream",
     "text": [
      "Medicine_ID\n",
      "DistArea_ID\n",
      "Medicine_Type\n",
      "SidEffect_Level\n",
      "Area_Type\n",
      "Area_City_Type\n",
      "Area_dist_level\n"
     ]
    }
   ],
   "source": [
    "# Check for columns which aren't numeric.\n",
    "for label, content in df.items():\n",
    "    if not pd.api.types.is_numeric_dtype(content):\n",
    "        print(label)"
   ]
  },
  {
   "cell_type": "code",
   "execution_count": 43,
   "id": "c8828e4b",
   "metadata": {},
   "outputs": [],
   "source": [
    "# Check for the categorical missing values and impute it.\n",
    "for label, content in df.items():\n",
    "    if not pd.api.types.is_numeric_dtype(content):\n",
    "         # Add a binary column to indicate whether sample had missing value.\n",
    "            df[label+\"_is_missing\"] = pd.isnull(content)\n",
    "        # Turn categorical data into numerical data and add +1 (To null aout any negative value FOR e.g : if there is -1 then +1 will make it +ve by summing it to 0.)\n",
    "            df[label] = pd.Categorical(content).codes + 1 \n"
   ]
  },
  {
   "cell_type": "code",
   "execution_count": 44,
   "id": "45b5237e",
   "metadata": {},
   "outputs": [
    {
     "name": "stdout",
     "output_type": "stream",
     "text": [
      "<class 'pandas.core.frame.DataFrame'>\n",
      "RangeIndex: 6818 entries, 0 to 6817\n",
      "Data columns (total 20 columns):\n",
      " #   Column                         Non-Null Count  Dtype  \n",
      "---  ------                         --------------  -----  \n",
      " 0   Medicine_ID                    6818 non-null   int16  \n",
      " 1   Counterfeit_Weight             6818 non-null   float64\n",
      " 2   DistArea_ID                    6818 non-null   int8   \n",
      " 3   Active_Since                   6818 non-null   int64  \n",
      " 4   Medicine_MRP                   6818 non-null   float64\n",
      " 5   Medicine_Type                  6818 non-null   int8   \n",
      " 6   SidEffect_Level                6818 non-null   int8   \n",
      " 7   Availability_rating            6818 non-null   float64\n",
      " 8   Area_Type                      6818 non-null   int8   \n",
      " 9   Area_City_Type                 6818 non-null   int8   \n",
      " 10  Area_dist_level                6818 non-null   int8   \n",
      " 11  Counterfeit_Sales              6818 non-null   float64\n",
      " 12  Counterfeit_Weight_is_missing  6818 non-null   bool   \n",
      " 13  Medicine_ID_is_missing         6818 non-null   bool   \n",
      " 14  DistArea_ID_is_missing         6818 non-null   bool   \n",
      " 15  Medicine_Type_is_missing       6818 non-null   bool   \n",
      " 16  SidEffect_Level_is_missing     6818 non-null   bool   \n",
      " 17  Area_Type_is_missing           6818 non-null   bool   \n",
      " 18  Area_City_Type_is_missing      6818 non-null   bool   \n",
      " 19  Area_dist_level_is_missing     6818 non-null   bool   \n",
      "dtypes: bool(8), float64(4), int16(1), int64(1), int8(6)\n",
      "memory usage: 373.0 KB\n"
     ]
    }
   ],
   "source": [
    "df.info()"
   ]
  },
  {
   "cell_type": "code",
   "execution_count": 45,
   "id": "067be4e8",
   "metadata": {},
   "outputs": [
    {
     "data": {
      "text/html": [
       "<div>\n",
       "<style scoped>\n",
       "    .dataframe tbody tr th:only-of-type {\n",
       "        vertical-align: middle;\n",
       "    }\n",
       "\n",
       "    .dataframe tbody tr th {\n",
       "        vertical-align: top;\n",
       "    }\n",
       "\n",
       "    .dataframe thead th {\n",
       "        text-align: right;\n",
       "    }\n",
       "</style>\n",
       "<table border=\"1\" class=\"dataframe\">\n",
       "  <thead>\n",
       "    <tr style=\"text-align: right;\">\n",
       "      <th></th>\n",
       "      <th>Medicine_ID</th>\n",
       "      <th>Counterfeit_Weight</th>\n",
       "      <th>DistArea_ID</th>\n",
       "      <th>Active_Since</th>\n",
       "      <th>Medicine_MRP</th>\n",
       "      <th>Medicine_Type</th>\n",
       "      <th>SidEffect_Level</th>\n",
       "      <th>Availability_rating</th>\n",
       "      <th>Area_Type</th>\n",
       "      <th>Area_City_Type</th>\n",
       "      <th>Area_dist_level</th>\n",
       "      <th>Counterfeit_Sales</th>\n",
       "      <th>Counterfeit_Weight_is_missing</th>\n",
       "      <th>Medicine_ID_is_missing</th>\n",
       "      <th>DistArea_ID_is_missing</th>\n",
       "      <th>Medicine_Type_is_missing</th>\n",
       "      <th>SidEffect_Level_is_missing</th>\n",
       "      <th>Area_Type_is_missing</th>\n",
       "      <th>Area_City_Type_is_missing</th>\n",
       "      <th>Area_dist_level_is_missing</th>\n",
       "    </tr>\n",
       "  </thead>\n",
       "  <tbody>\n",
       "    <tr>\n",
       "      <th>0</th>\n",
       "      <td>1068</td>\n",
       "      <td>13.100</td>\n",
       "      <td>9</td>\n",
       "      <td>1995</td>\n",
       "      <td>160.2366</td>\n",
       "      <td>5</td>\n",
       "      <td>1</td>\n",
       "      <td>0.070422</td>\n",
       "      <td>2</td>\n",
       "      <td>1</td>\n",
       "      <td>3</td>\n",
       "      <td>1775.5026</td>\n",
       "      <td>False</td>\n",
       "      <td>False</td>\n",
       "      <td>False</td>\n",
       "      <td>False</td>\n",
       "      <td>False</td>\n",
       "      <td>False</td>\n",
       "      <td>False</td>\n",
       "      <td>False</td>\n",
       "    </tr>\n",
       "    <tr>\n",
       "      <th>1</th>\n",
       "      <td>1498</td>\n",
       "      <td>13.800</td>\n",
       "      <td>6</td>\n",
       "      <td>1983</td>\n",
       "      <td>110.4384</td>\n",
       "      <td>11</td>\n",
       "      <td>2</td>\n",
       "      <td>0.013000</td>\n",
       "      <td>1</td>\n",
       "      <td>3</td>\n",
       "      <td>2</td>\n",
       "      <td>3069.1520</td>\n",
       "      <td>True</td>\n",
       "      <td>False</td>\n",
       "      <td>False</td>\n",
       "      <td>False</td>\n",
       "      <td>False</td>\n",
       "      <td>False</td>\n",
       "      <td>False</td>\n",
       "      <td>False</td>\n",
       "    </tr>\n",
       "    <tr>\n",
       "      <th>2</th>\n",
       "      <td>692</td>\n",
       "      <td>9.025</td>\n",
       "      <td>9</td>\n",
       "      <td>1995</td>\n",
       "      <td>259.4092</td>\n",
       "      <td>9</td>\n",
       "      <td>2</td>\n",
       "      <td>0.060783</td>\n",
       "      <td>2</td>\n",
       "      <td>1</td>\n",
       "      <td>3</td>\n",
       "      <td>2603.0920</td>\n",
       "      <td>False</td>\n",
       "      <td>False</td>\n",
       "      <td>False</td>\n",
       "      <td>False</td>\n",
       "      <td>False</td>\n",
       "      <td>False</td>\n",
       "      <td>False</td>\n",
       "      <td>False</td>\n",
       "    </tr>\n",
       "    <tr>\n",
       "      <th>3</th>\n",
       "      <td>406</td>\n",
       "      <td>11.800</td>\n",
       "      <td>9</td>\n",
       "      <td>1995</td>\n",
       "      <td>99.9830</td>\n",
       "      <td>13</td>\n",
       "      <td>2</td>\n",
       "      <td>0.065555</td>\n",
       "      <td>2</td>\n",
       "      <td>1</td>\n",
       "      <td>3</td>\n",
       "      <td>1101.7130</td>\n",
       "      <td>False</td>\n",
       "      <td>False</td>\n",
       "      <td>False</td>\n",
       "      <td>False</td>\n",
       "      <td>False</td>\n",
       "      <td>False</td>\n",
       "      <td>False</td>\n",
       "      <td>False</td>\n",
       "    </tr>\n",
       "    <tr>\n",
       "      <th>4</th>\n",
       "      <td>995</td>\n",
       "      <td>13.800</td>\n",
       "      <td>5</td>\n",
       "      <td>1983</td>\n",
       "      <td>56.4402</td>\n",
       "      <td>10</td>\n",
       "      <td>1</td>\n",
       "      <td>0.248859</td>\n",
       "      <td>4</td>\n",
       "      <td>1</td>\n",
       "      <td>3</td>\n",
       "      <td>158.9402</td>\n",
       "      <td>True</td>\n",
       "      <td>False</td>\n",
       "      <td>False</td>\n",
       "      <td>False</td>\n",
       "      <td>False</td>\n",
       "      <td>False</td>\n",
       "      <td>False</td>\n",
       "      <td>False</td>\n",
       "    </tr>\n",
       "  </tbody>\n",
       "</table>\n",
       "</div>"
      ],
      "text/plain": [
       "   Medicine_ID  Counterfeit_Weight  DistArea_ID  Active_Since  Medicine_MRP   \n",
       "0         1068              13.100            9          1995      160.2366  \\\n",
       "1         1498              13.800            6          1983      110.4384   \n",
       "2          692               9.025            9          1995      259.4092   \n",
       "3          406              11.800            9          1995       99.9830   \n",
       "4          995              13.800            5          1983       56.4402   \n",
       "\n",
       "   Medicine_Type  SidEffect_Level  Availability_rating  Area_Type   \n",
       "0              5                1             0.070422          2  \\\n",
       "1             11                2             0.013000          1   \n",
       "2              9                2             0.060783          2   \n",
       "3             13                2             0.065555          2   \n",
       "4             10                1             0.248859          4   \n",
       "\n",
       "   Area_City_Type  Area_dist_level  Counterfeit_Sales   \n",
       "0               1                3          1775.5026  \\\n",
       "1               3                2          3069.1520   \n",
       "2               1                3          2603.0920   \n",
       "3               1                3          1101.7130   \n",
       "4               1                3           158.9402   \n",
       "\n",
       "   Counterfeit_Weight_is_missing  Medicine_ID_is_missing   \n",
       "0                          False                   False  \\\n",
       "1                           True                   False   \n",
       "2                          False                   False   \n",
       "3                          False                   False   \n",
       "4                           True                   False   \n",
       "\n",
       "   DistArea_ID_is_missing  Medicine_Type_is_missing   \n",
       "0                   False                     False  \\\n",
       "1                   False                     False   \n",
       "2                   False                     False   \n",
       "3                   False                     False   \n",
       "4                   False                     False   \n",
       "\n",
       "   SidEffect_Level_is_missing  Area_Type_is_missing   \n",
       "0                       False                 False  \\\n",
       "1                       False                 False   \n",
       "2                       False                 False   \n",
       "3                       False                 False   \n",
       "4                       False                 False   \n",
       "\n",
       "   Area_City_Type_is_missing  Area_dist_level_is_missing  \n",
       "0                      False                       False  \n",
       "1                      False                       False  \n",
       "2                      False                       False  \n",
       "3                      False                       False  \n",
       "4                      False                       False  "
      ]
     },
     "execution_count": 45,
     "metadata": {},
     "output_type": "execute_result"
    }
   ],
   "source": [
    "df.head()"
   ]
  },
  {
   "cell_type": "code",
   "execution_count": 47,
   "id": "64c1ddee",
   "metadata": {},
   "outputs": [],
   "source": [
    "# Checking after missing value imputation. \n",
    "for label, content in df.items():\n",
    "    if not pd.api.types.is_numeric_dtype(content):\n",
    "        print(label)\n",
    "\n",
    "# It must return nothing."
   ]
  },
  {
   "cell_type": "markdown",
   "id": "10e69c09",
   "metadata": {},
   "source": [
    "## Checking the outliers"
   ]
  },
  {
   "cell_type": "code",
   "execution_count": 49,
   "id": "47d664f9",
   "metadata": {},
   "outputs": [
    {
     "data": {
      "text/plain": [
       "<Axes: xlabel='Counterfeit_Sales'>"
      ]
     },
     "execution_count": 49,
     "metadata": {},
     "output_type": "execute_result"
    },
    {
     "data": {
      "image/png": "[encoded data removed]",
      "text/plain": [
       "<Figure size 640x480 with 1 Axes>"
      ]
     },
     "metadata": {},
     "output_type": "display_data"
    }
   ],
   "source": [
    "sns.boxplot(x='Counterfeit_Sales', data=df)"
   ]
  },
  {
   "cell_type": "markdown",
   "id": "967a354e",
   "metadata": {},
   "source": [
    "#  Splitting The Data Into Training and Testing Dataset"
   ]
  },
  {
   "cell_type": "code",
   "execution_count": 50,
   "id": "65a2335d",
   "metadata": {},
   "outputs": [],
   "source": [
    "df_train,df_test = train_test_split(df, test_size = 0.3, random_state=42)"
   ]
  },
  {
   "cell_type": "code",
   "execution_count": 51,
   "id": "20630cbd",
   "metadata": {},
   "outputs": [
    {
     "data": {
      "text/html": [
       "<div>\n",
       "<style scoped>\n",
       "    .dataframe tbody tr th:only-of-type {\n",
       "        vertical-align: middle;\n",
       "    }\n",
       "\n",
       "    .dataframe tbody tr th {\n",
       "        vertical-align: top;\n",
       "    }\n",
       "\n",
       "    .dataframe thead th {\n",
       "        text-align: right;\n",
       "    }\n",
       "</style>\n",
       "<table border=\"1\" class=\"dataframe\">\n",
       "  <thead>\n",
       "    <tr style=\"text-align: right;\">\n",
       "      <th></th>\n",
       "      <th>Medicine_ID</th>\n",
       "      <th>Counterfeit_Weight</th>\n",
       "      <th>DistArea_ID</th>\n",
       "      <th>Active_Since</th>\n",
       "      <th>Medicine_MRP</th>\n",
       "      <th>Medicine_Type</th>\n",
       "      <th>SidEffect_Level</th>\n",
       "      <th>Availability_rating</th>\n",
       "      <th>Area_Type</th>\n",
       "      <th>Area_City_Type</th>\n",
       "      <th>Area_dist_level</th>\n",
       "      <th>Counterfeit_Sales</th>\n",
       "      <th>Counterfeit_Weight_is_missing</th>\n",
       "      <th>Medicine_ID_is_missing</th>\n",
       "      <th>DistArea_ID_is_missing</th>\n",
       "      <th>Medicine_Type_is_missing</th>\n",
       "      <th>SidEffect_Level_is_missing</th>\n",
       "      <th>Area_Type_is_missing</th>\n",
       "      <th>Area_City_Type_is_missing</th>\n",
       "      <th>Area_dist_level_is_missing</th>\n",
       "    </tr>\n",
       "  </thead>\n",
       "  <tbody>\n",
       "    <tr>\n",
       "      <th>5632</th>\n",
       "      <td>1363</td>\n",
       "      <td>15.400</td>\n",
       "      <td>1</td>\n",
       "      <td>1996</td>\n",
       "      <td>209.1084</td>\n",
       "      <td>10</td>\n",
       "      <td>2</td>\n",
       "      <td>0.124937</td>\n",
       "      <td>4</td>\n",
       "      <td>3</td>\n",
       "      <td>4</td>\n",
       "      <td>1105.0420</td>\n",
       "      <td>False</td>\n",
       "      <td>False</td>\n",
       "      <td>False</td>\n",
       "      <td>False</td>\n",
       "      <td>False</td>\n",
       "      <td>False</td>\n",
       "      <td>False</td>\n",
       "      <td>False</td>\n",
       "    </tr>\n",
       "    <tr>\n",
       "      <th>903</th>\n",
       "      <td>760</td>\n",
       "      <td>12.800</td>\n",
       "      <td>7</td>\n",
       "      <td>2002</td>\n",
       "      <td>119.8254</td>\n",
       "      <td>10</td>\n",
       "      <td>1</td>\n",
       "      <td>0.050563</td>\n",
       "      <td>2</td>\n",
       "      <td>2</td>\n",
       "      <td>3</td>\n",
       "      <td>1740.8810</td>\n",
       "      <td>False</td>\n",
       "      <td>False</td>\n",
       "      <td>False</td>\n",
       "      <td>False</td>\n",
       "      <td>False</td>\n",
       "      <td>False</td>\n",
       "      <td>False</td>\n",
       "      <td>False</td>\n",
       "    </tr>\n",
       "    <tr>\n",
       "      <th>2666</th>\n",
       "      <td>708</td>\n",
       "      <td>20.150</td>\n",
       "      <td>10</td>\n",
       "      <td>1997</td>\n",
       "      <td>204.2136</td>\n",
       "      <td>7</td>\n",
       "      <td>2</td>\n",
       "      <td>0.180844</td>\n",
       "      <td>2</td>\n",
       "      <td>1</td>\n",
       "      <td>2</td>\n",
       "      <td>3223.6176</td>\n",
       "      <td>False</td>\n",
       "      <td>False</td>\n",
       "      <td>False</td>\n",
       "      <td>False</td>\n",
       "      <td>False</td>\n",
       "      <td>False</td>\n",
       "      <td>False</td>\n",
       "      <td>False</td>\n",
       "    </tr>\n",
       "    <tr>\n",
       "      <th>109</th>\n",
       "      <td>744</td>\n",
       "      <td>9.155</td>\n",
       "      <td>7</td>\n",
       "      <td>2002</td>\n",
       "      <td>47.3848</td>\n",
       "      <td>11</td>\n",
       "      <td>1</td>\n",
       "      <td>0.174517</td>\n",
       "      <td>2</td>\n",
       "      <td>2</td>\n",
       "      <td>3</td>\n",
       "      <td>560.4176</td>\n",
       "      <td>False</td>\n",
       "      <td>False</td>\n",
       "      <td>False</td>\n",
       "      <td>False</td>\n",
       "      <td>False</td>\n",
       "      <td>False</td>\n",
       "      <td>False</td>\n",
       "      <td>False</td>\n",
       "    </tr>\n",
       "    <tr>\n",
       "      <th>5316</th>\n",
       "      <td>837</td>\n",
       "      <td>13.100</td>\n",
       "      <td>7</td>\n",
       "      <td>2002</td>\n",
       "      <td>127.5492</td>\n",
       "      <td>16</td>\n",
       "      <td>2</td>\n",
       "      <td>0.021560</td>\n",
       "      <td>2</td>\n",
       "      <td>2</td>\n",
       "      <td>3</td>\n",
       "      <td>2545.8332</td>\n",
       "      <td>False</td>\n",
       "      <td>False</td>\n",
       "      <td>False</td>\n",
       "      <td>False</td>\n",
       "      <td>False</td>\n",
       "      <td>False</td>\n",
       "      <td>False</td>\n",
       "      <td>False</td>\n",
       "    </tr>\n",
       "  </tbody>\n",
       "</table>\n",
       "</div>"
      ],
      "text/plain": [
       "      Medicine_ID  Counterfeit_Weight  DistArea_ID  Active_Since   \n",
       "5632         1363              15.400            1          1996  \\\n",
       "903           760              12.800            7          2002   \n",
       "2666          708              20.150           10          1997   \n",
       "109           744               9.155            7          2002   \n",
       "5316          837              13.100            7          2002   \n",
       "\n",
       "      Medicine_MRP  Medicine_Type  SidEffect_Level  Availability_rating   \n",
       "5632      209.1084             10                2             0.124937  \\\n",
       "903       119.8254             10                1             0.050563   \n",
       "2666      204.2136              7                2             0.180844   \n",
       "109        47.3848             11                1             0.174517   \n",
       "5316      127.5492             16                2             0.021560   \n",
       "\n",
       "      Area_Type  Area_City_Type  Area_dist_level  Counterfeit_Sales   \n",
       "5632          4               3                4          1105.0420  \\\n",
       "903           2               2                3          1740.8810   \n",
       "2666          2               1                2          3223.6176   \n",
       "109           2               2                3           560.4176   \n",
       "5316          2               2                3          2545.8332   \n",
       "\n",
       "      Counterfeit_Weight_is_missing  Medicine_ID_is_missing   \n",
       "5632                          False                   False  \\\n",
       "903                           False                   False   \n",
       "2666                          False                   False   \n",
       "109                           False                   False   \n",
       "5316                          False                   False   \n",
       "\n",
       "      DistArea_ID_is_missing  Medicine_Type_is_missing   \n",
       "5632                   False                     False  \\\n",
       "903                    False                     False   \n",
       "2666                   False                     False   \n",
       "109                    False                     False   \n",
       "5316                   False                     False   \n",
       "\n",
       "      SidEffect_Level_is_missing  Area_Type_is_missing   \n",
       "5632                       False                 False  \\\n",
       "903                        False                 False   \n",
       "2666                       False                 False   \n",
       "109                        False                 False   \n",
       "5316                       False                 False   \n",
       "\n",
       "      Area_City_Type_is_missing  Area_dist_level_is_missing  \n",
       "5632                      False                       False  \n",
       "903                       False                       False  \n",
       "2666                      False                       False  \n",
       "109                       False                       False  \n",
       "5316                      False                       False  "
      ]
     },
     "execution_count": 51,
     "metadata": {},
     "output_type": "execute_result"
    }
   ],
   "source": [
    "df_train.head()"
   ]
  },
  {
   "cell_type": "code",
   "execution_count": 54,
   "id": "275a8bc5",
   "metadata": {},
   "outputs": [],
   "source": [
    "y_train = np.log(df_train.Counterfeit_Sales)\n",
    "X_train = df_train.drop(\"Counterfeit_Sales\",axis=1)\n",
    "\n",
    "y_test= np.log(df_test.Counterfeit_Sales)\n",
    "X_test = df_test.drop(\"Counterfeit_Sales\",axis=1)"
   ]
  },
  {
   "cell_type": "code",
   "execution_count": 55,
   "id": "c4f8d5ed",
   "metadata": {},
   "outputs": [
    {
     "data": {
      "text/plain": [
       "((4772, 19), (4772,), (2046, 19), (2046,))"
      ]
     },
     "execution_count": 55,
     "metadata": {},
     "output_type": "execute_result"
    }
   ],
   "source": [
    "X_train.shape, y_train.shape, X_test.shape, y_test.shape"
   ]
  },
  {
   "cell_type": "markdown",
   "id": "991413a3",
   "metadata": {},
   "source": [
    "# Building and Evaluating Function "
   ]
  },
  {
   "cell_type": "markdown",
   "id": "1d197d40",
   "metadata": {},
   "source": [
    "\n",
    "Metrics used for evaluation:\n",
    "\n",
    "***Root Mean Squared Logarithmic Error:*** It is calculated by applying log to the actual and the predicted values and then taking their differences. RMSLE is robust to outliers where the small and the large errors are treated evenly.\n",
    "\n",
    "***Mean Absolute Error:*** The magnitude of the difference between the individual measurement and the true value of the quantity is called the absolute error of the measurement. The arithmetic mean of all the absolute error is taken as the mean absolute error of the value of the physical quantity\n"
   ]
  },
  {
   "cell_type": "code",
   "execution_count": 69,
   "id": "f1b7bac4",
   "metadata": {},
   "outputs": [],
   "source": [
    "def rmsle(y_test, y_preds):\n",
    "    \"\"\"\n",
    "    Calcualates root mean squared log error between predictions and true labels.\n",
    "    \"\"\"\n",
    "    return np.sqrt(mean_squared_log_error(y_test, y_preds))\n",
    "\n",
    "# Create a functin to evaluate model on a few  different levels. \n",
    "def show_scores(model):\n",
    "    train_preds = model.predict(X_train)\n",
    "    val_preds = model.predict(X_test)\n",
    "# If our model perform well on the above validation dataset then it means our model is overfitting.\n",
    "    \n",
    "    scores = {\"Training MAE\": mean_absolute_error(y_train, train_preds),\n",
    "              \"Test MAE\": mean_absolute_error(y_test, val_preds),\n",
    "              \"Training RSMLE\": mean_squared_log_error(y_train, train_preds),\n",
    "              \"Valid RSMLE\": rmsle(y_test, val_preds),\n",
    "              \"Training R^2\": r2_score(y_train, train_preds),\n",
    "              \"Valid R^2\": r2_score(y_test, val_preds) \n",
    "             }\n",
    "    return scores"
   ]
  },
  {
   "cell_type": "markdown",
   "id": "e1a2adcd",
   "metadata": {},
   "source": [
    "# Model Building"
   ]
  },
  {
   "cell_type": "code",
   "execution_count": 70,
   "id": "dd15812a",
   "metadata": {},
   "outputs": [
    {
     "data": {
      "text/html": [
       "<style>#sk-container-id-5 {color: black;}#sk-container-id-5 pre{padding: 0;}#sk-container-id-5 div.sk-toggleable {background-color: white;}#sk-container-id-5 label.sk-toggleable__label {cursor: pointer;display: block;width: 100%;margin-bottom: 0;padding: 0.3em;box-sizing: border-box;text-align: center;}#sk-container-id-5 label.sk-toggleable__label-arrow:before {content: \"▸\";float: left;margin-right: 0.25em;color: #696969;}#sk-container-id-5 label.sk-toggleable__label-arrow:hover:before {color: black;}#sk-container-id-5 div.sk-estimator:hover label.sk-toggleable__label-arrow:before {color: black;}#sk-container-id-5 div.sk-toggleable__content {max-height: 0;max-width: 0;overflow: hidden;text-align: left;background-color: #f0f8ff;}#sk-container-id-5 div.sk-toggleable__content pre {margin: 0.2em;color: black;border-radius: 0.25em;background-color: #f0f8ff;}#sk-container-id-5 input.sk-toggleable__control:checked~div.sk-toggleable__content {max-height: 200px;max-width: 100%;overflow: auto;}#sk-container-id-5 input.sk-toggleable__control:checked~label.sk-toggleable__label-arrow:before {content: \"▾\";}#sk-container-id-5 div.sk-estimator input.sk-toggleable__control:checked~label.sk-toggleable__label {background-color: #d4ebff;}#sk-container-id-5 div.sk-label input.sk-toggleable__control:checked~label.sk-toggleable__label {background-color: #d4ebff;}#sk-container-id-5 input.sk-hidden--visually {border: 0;clip: rect(1px 1px 1px 1px);clip: rect(1px, 1px, 1px, 1px);height: 1px;margin: -1px;overflow: hidden;padding: 0;position: absolute;width: 1px;}#sk-container-id-5 div.sk-estimator {font-family: monospace;background-color: #f0f8ff;border: 1px dotted black;border-radius: 0.25em;box-sizing: border-box;margin-bottom: 0.5em;}#sk-container-id-5 div.sk-estimator:hover {background-color: #d4ebff;}#sk-container-id-5 div.sk-parallel-item::after {content: \"\";width: 100%;border-bottom: 1px solid gray;flex-grow: 1;}#sk-container-id-5 div.sk-label:hover label.sk-toggleable__label {background-color: #d4ebff;}#sk-container-id-5 div.sk-serial::before {content: \"\";position: absolute;border-left: 1px solid gray;box-sizing: border-box;top: 0;bottom: 0;left: 50%;z-index: 0;}#sk-container-id-5 div.sk-serial {display: flex;flex-direction: column;align-items: center;background-color: white;padding-right: 0.2em;padding-left: 0.2em;position: relative;}#sk-container-id-5 div.sk-item {position: relative;z-index: 1;}#sk-container-id-5 div.sk-parallel {display: flex;align-items: stretch;justify-content: center;background-color: white;position: relative;}#sk-container-id-5 div.sk-item::before, #sk-container-id-5 div.sk-parallel-item::before {content: \"\";position: absolute;border-left: 1px solid gray;box-sizing: border-box;top: 0;bottom: 0;left: 50%;z-index: -1;}#sk-container-id-5 div.sk-parallel-item {display: flex;flex-direction: column;z-index: 1;position: relative;background-color: white;}#sk-container-id-5 div.sk-parallel-item:first-child::after {align-self: flex-end;width: 50%;}#sk-container-id-5 div.sk-parallel-item:last-child::after {align-self: flex-start;width: 50%;}#sk-container-id-5 div.sk-parallel-item:only-child::after {width: 0;}#sk-container-id-5 div.sk-dashed-wrapped {border: 1px dashed gray;margin: 0 0.4em 0.5em 0.4em;box-sizing: border-box;padding-bottom: 0.4em;background-color: white;}#sk-container-id-5 div.sk-label label {font-family: monospace;font-weight: bold;display: inline-block;line-height: 1.2em;}#sk-container-id-5 div.sk-label-container {text-align: center;}#sk-container-id-5 div.sk-container {/* jupyter's `normalize.less` sets `[hidden] { display: none; }` but bootstrap.min.css set `[hidden] { display: none !important; }` so we also need the `!important` here to be able to override the default hidden behavior on the sphinx rendered scikit-learn.org. See: https://github.com/scikit-learn/scikit-learn/issues/21755 */display: inline-block !important;position: relative;}#sk-container-id-5 div.sk-text-repr-fallback {display: none;}</style><div id=\"sk-container-id-5\" class=\"sk-top-container\"><div class=\"sk-text-repr-fallback\"><pre>LinearRegression(n_jobs=-1)</pre><b>In a Jupyter environment, please rerun this cell to show the HTML representation or trust the notebook. <br />On GitHub, the HTML representation is unable to render, please try loading this page with nbviewer.org.</b></div><div class=\"sk-container\" hidden><div class=\"sk-item\"><div class=\"sk-estimator sk-toggleable\"><input class=\"sk-toggleable__control sk-hidden--visually\" id=\"sk-estimator-id-5\" type=\"checkbox\" checked><label for=\"sk-estimator-id-5\" class=\"sk-toggleable__label sk-toggleable__label-arrow\">LinearRegression</label><div class=\"sk-toggleable__content\"><pre>LinearRegression(n_jobs=-1)</pre></div></div></div></div></div>"
      ],
      "text/plain": [
       "LinearRegression(n_jobs=-1)"
      ]
     },
     "execution_count": 70,
     "metadata": {},
     "output_type": "execute_result"
    }
   ],
   "source": [
    "model = linear_model.LinearRegression(n_jobs=-1)\n",
    "model.fit(X_train,y_train)"
   ]
  },
  {
   "cell_type": "code",
   "execution_count": 71,
   "id": "49f8aeb6",
   "metadata": {},
   "outputs": [
    {
     "data": {
      "text/plain": [
       "{'Training MAE': 0.3705186791900568,\n",
       " 'Test MAE': 0.37507662716622187,\n",
       " 'Training RSMLE': 0.0033206282589901136,\n",
       " 'Valid RSMLE': 0.058565819545394894,\n",
       " 'Training R^2': 0.7018513475086889,\n",
       " 'Valid R^2': 0.7126464354609781}"
      ]
     },
     "execution_count": 71,
     "metadata": {},
     "output_type": "execute_result"
    }
   ],
   "source": [
    "show_scores(model)"
   ]
  },
  {
   "cell_type": "markdown",
   "id": "cecb5d8d",
   "metadata": {},
   "source": [
    "#  Model Building Using RandomForest"
   ]
  },
  {
   "cell_type": "code",
   "execution_count": 65,
   "id": "bf7e90dc",
   "metadata": {},
   "outputs": [
    {
     "data": {
      "text/html": [
       "<style>#sk-container-id-3 {color: black;}#sk-container-id-3 pre{padding: 0;}#sk-container-id-3 div.sk-toggleable {background-color: white;}#sk-container-id-3 label.sk-toggleable__label {cursor: pointer;display: block;width: 100%;margin-bottom: 0;padding: 0.3em;box-sizing: border-box;text-align: center;}#sk-container-id-3 label.sk-toggleable__label-arrow:before {content: \"▸\";float: left;margin-right: 0.25em;color: #696969;}#sk-container-id-3 label.sk-toggleable__label-arrow:hover:before {color: black;}#sk-container-id-3 div.sk-estimator:hover label.sk-toggleable__label-arrow:before {color: black;}#sk-container-id-3 div.sk-toggleable__content {max-height: 0;max-width: 0;overflow: hidden;text-align: left;background-color: #f0f8ff;}#sk-container-id-3 div.sk-toggleable__content pre {margin: 0.2em;color: black;border-radius: 0.25em;background-color: #f0f8ff;}#sk-container-id-3 input.sk-toggleable__control:checked~div.sk-toggleable__content {max-height: 200px;max-width: 100%;overflow: auto;}#sk-container-id-3 input.sk-toggleable__control:checked~label.sk-toggleable__label-arrow:before {content: \"▾\";}#sk-container-id-3 div.sk-estimator input.sk-toggleable__control:checked~label.sk-toggleable__label {background-color: #d4ebff;}#sk-container-id-3 div.sk-label input.sk-toggleable__control:checked~label.sk-toggleable__label {background-color: #d4ebff;}#sk-container-id-3 input.sk-hidden--visually {border: 0;clip: rect(1px 1px 1px 1px);clip: rect(1px, 1px, 1px, 1px);height: 1px;margin: -1px;overflow: hidden;padding: 0;position: absolute;width: 1px;}#sk-container-id-3 div.sk-estimator {font-family: monospace;background-color: #f0f8ff;border: 1px dotted black;border-radius: 0.25em;box-sizing: border-box;margin-bottom: 0.5em;}#sk-container-id-3 div.sk-estimator:hover {background-color: #d4ebff;}#sk-container-id-3 div.sk-parallel-item::after {content: \"\";width: 100%;border-bottom: 1px solid gray;flex-grow: 1;}#sk-container-id-3 div.sk-label:hover label.sk-toggleable__label {background-color: #d4ebff;}#sk-container-id-3 div.sk-serial::before {content: \"\";position: absolute;border-left: 1px solid gray;box-sizing: border-box;top: 0;bottom: 0;left: 50%;z-index: 0;}#sk-container-id-3 div.sk-serial {display: flex;flex-direction: column;align-items: center;background-color: white;padding-right: 0.2em;padding-left: 0.2em;position: relative;}#sk-container-id-3 div.sk-item {position: relative;z-index: 1;}#sk-container-id-3 div.sk-parallel {display: flex;align-items: stretch;justify-content: center;background-color: white;position: relative;}#sk-container-id-3 div.sk-item::before, #sk-container-id-3 div.sk-parallel-item::before {content: \"\";position: absolute;border-left: 1px solid gray;box-sizing: border-box;top: 0;bottom: 0;left: 50%;z-index: -1;}#sk-container-id-3 div.sk-parallel-item {display: flex;flex-direction: column;z-index: 1;position: relative;background-color: white;}#sk-container-id-3 div.sk-parallel-item:first-child::after {align-self: flex-end;width: 50%;}#sk-container-id-3 div.sk-parallel-item:last-child::after {align-self: flex-start;width: 50%;}#sk-container-id-3 div.sk-parallel-item:only-child::after {width: 0;}#sk-container-id-3 div.sk-dashed-wrapped {border: 1px dashed gray;margin: 0 0.4em 0.5em 0.4em;box-sizing: border-box;padding-bottom: 0.4em;background-color: white;}#sk-container-id-3 div.sk-label label {font-family: monospace;font-weight: bold;display: inline-block;line-height: 1.2em;}#sk-container-id-3 div.sk-label-container {text-align: center;}#sk-container-id-3 div.sk-container {/* jupyter's `normalize.less` sets `[hidden] { display: none; }` but bootstrap.min.css set `[hidden] { display: none !important; }` so we also need the `!important` here to be able to override the default hidden behavior on the sphinx rendered scikit-learn.org. See: https://github.com/scikit-learn/scikit-learn/issues/21755 */display: inline-block !important;position: relative;}#sk-container-id-3 div.sk-text-repr-fallback {display: none;}</style><div id=\"sk-container-id-3\" class=\"sk-top-container\"><div class=\"sk-text-repr-fallback\"><pre>RandomForestRegressor(max_samples=4000, n_jobs=-1, random_state=42)</pre><b>In a Jupyter environment, please rerun this cell to show the HTML representation or trust the notebook. <br />On GitHub, the HTML representation is unable to render, please try loading this page with nbviewer.org.</b></div><div class=\"sk-container\" hidden><div class=\"sk-item\"><div class=\"sk-estimator sk-toggleable\"><input class=\"sk-toggleable__control sk-hidden--visually\" id=\"sk-estimator-id-3\" type=\"checkbox\" checked><label for=\"sk-estimator-id-3\" class=\"sk-toggleable__label sk-toggleable__label-arrow\">RandomForestRegressor</label><div class=\"sk-toggleable__content\"><pre>RandomForestRegressor(max_samples=4000, n_jobs=-1, random_state=42)</pre></div></div></div></div></div>"
      ],
      "text/plain": [
       "RandomForestRegressor(max_samples=4000, n_jobs=-1, random_state=42)"
      ]
     },
     "execution_count": 65,
     "metadata": {},
     "output_type": "execute_result"
    }
   ],
   "source": [
    "# from sklearn.ensemble import RandomForestRegressor\n",
    "# reg = RandomForestRegressor(n_jobs=-1,\n",
    "#                               random_state=42,\n",
    "#                               max_samples=4000)\n",
    "# reg.fit(X_train,y_train)"
   ]
  },
  {
   "cell_type": "code",
   "execution_count": 66,
   "id": "11226cb7",
   "metadata": {},
   "outputs": [
    {
     "data": {
      "text/plain": [
       "{'Training MAE': 0.1638936825671227,\n",
       " 'Valid MAE': 0.37963102556423095,\n",
       " 'Training RSMLE': 0.0006723017545429215,\n",
       " 'Valid RSMLE': 0.05935621635880408,\n",
       " 'Training R^2': 0.9405595978425566,\n",
       " 'Valid R^2': 0.6999748415350125}"
      ]
     },
     "execution_count": 66,
     "metadata": {},
     "output_type": "execute_result"
    }
   ],
   "source": [
    "# show_scores(reg)"
   ]
  },
  {
   "cell_type": "markdown",
   "id": "5c3a0b7b",
   "metadata": {},
   "source": [
    "# Making Predictions On Test Dataset "
   ]
  },
  {
   "cell_type": "code",
   "execution_count": null,
   "id": "2d3d10e4",
   "metadata": {},
   "outputs": [],
   "source": [
    "# Import the test data\n",
    "df_test = pd.read_csv(\"\", low_memory=False)\n",
    "\n",
    "df_test.head()\n",
    "\n",
    "# The low_memory option is a boolean parameter \n",
    "#that controls whether Pandas should read the CSV file in chunks or load the entire file into memory at once"
   ]
  },
  {
   "cell_type": "code",
   "execution_count": null,
   "id": "3ac7af7d",
   "metadata": {},
   "outputs": [],
   "source": [
    "df_test.isna().sum()"
   ]
  },
  {
   "cell_type": "code",
   "execution_count": null,
   "id": "0ec39b61",
   "metadata": {},
   "outputs": [],
   "source": [
    "df_test.info()"
   ]
  },
  {
   "cell_type": "markdown",
   "id": "b3614192",
   "metadata": {},
   "source": [
    "## Preprocessing the test dataset before making a prediction."
   ]
  },
  {
   "cell_type": "code",
   "execution_count": null,
   "id": "9c29d5c0",
   "metadata": {},
   "outputs": [],
   "source": [
    "test_preds = preprocess_data(df_test)"
   ]
  },
  {
   "cell_type": "code",
   "execution_count": null,
   "id": "c18d44ef",
   "metadata": {},
   "outputs": [],
   "source": [
    "# Identifying the missing column.\n",
    "set(X_train.columns) - set(df_test.columns)"
   ]
  },
  {
   "cell_type": "code",
   "execution_count": null,
   "id": "bee87a33",
   "metadata": {},
   "outputs": [],
   "source": [
    "# SAMPLE \n",
    "\n",
    "# In our case the missing column is--> 'auctioneerID_is_missing'\n",
    "# Adjusting Manually.\n",
    "# df_test[\"auctioneerID_is_missing\"] = False\n",
    "# df_test.head()\n",
    "\n"
   ]
  },
  {
   "cell_type": "markdown",
   "id": "e7fb654d",
   "metadata": {},
   "source": [
    "# To maintain the same order of the test dataset as of the training dataset. "
   ]
  },
  {
   "cell_type": "code",
   "execution_count": null,
   "id": "bdf4d85e",
   "metadata": {},
   "outputs": [],
   "source": [
    "df_test.columns=X_train.columns"
   ]
  },
  {
   "cell_type": "code",
   "execution_count": null,
   "id": "dbeaec30",
   "metadata": {},
   "outputs": [],
   "source": [
    "# Another option to do the same thing.\n",
    "# df_test = df_test.reindex(columns=X_train.columns)"
   ]
  },
  {
   "cell_type": "markdown",
   "id": "9e31c5c5",
   "metadata": {},
   "source": [
    "# Making a Prediction "
   ]
  },
  {
   "cell_type": "code",
   "execution_count": null,
   "id": "1eb5d618",
   "metadata": {},
   "outputs": [],
   "source": [
    "# Make predictions on the test dataset.\n",
    "test_preds = reg.predict(df_test)"
   ]
  },
  {
   "cell_type": "code",
   "execution_count": null,
   "id": "1ce73b45",
   "metadata": {},
   "outputs": [],
   "source": [
    "# Export the model to csv.\n",
    "df_preds.to_csv(\"\", index=False)"
   ]
  },
  {
   "cell_type": "markdown",
   "id": "2ea52796",
   "metadata": {},
   "source": [
    "# Feature Importance "
   ]
  },
  {
   "cell_type": "code",
   "execution_count": null,
   "id": "3684d7fe",
   "metadata": {},
   "outputs": [],
   "source": [
    "ideal_model.feature_importances_"
   ]
  },
  {
   "cell_type": "code",
   "execution_count": 76,
   "id": "1fd1c37c",
   "metadata": {},
   "outputs": [],
   "source": [
    "# Helper fucntion for plotting feature importance.\n",
    "def plot_features(columns, importances, n=20):\n",
    "    df = (pd.DataFrame({\"features\": columns,\n",
    "                        \"feature_importances\": importances})\n",
    "          .sort_values('feature_importances', ascending=False)\n",
    "          .reset_index(drop=True))\n",
    "    \n",
    "    # Plot the dataframe\n",
    "    fig, ax = plt.subplots()\n",
    "    ax.barh(df[\"features\"][:n], df[\"feature_importances\"][:20])\n",
    "    ax.set_xlabel(\"Features\")\n",
    "    ax.set_ylabel(\"Features Importance\")\n",
    "    ax.invert_yaxis()\n",
    "\n"
   ]
  },
  {
   "cell_type": "code",
   "execution_count": 77,
   "id": "33c2a796",
   "metadata": {},
   "outputs": [
    {
     "data": {
      "image/png": "[encoded data removed]",
      "text/plain": [
       "<Figure size 640x480 with 1 Axes>"
      ]
     },
     "metadata": {},
     "output_type": "display_data"
    }
   ],
   "source": [
    "plot_features(X_train.columns, reg.feature_importances_)"
   ]
  },
  {
   "cell_type": "code",
   "execution_count": null,
   "id": "60fe783e",
   "metadata": {},
   "outputs": [],
   "source": []
  }
 ],
 "metadata": {
  "kernelspec": {
   "display_name": "Python 3 (ipykernel)",
   "language": "python",
   "name": "python3"
  },
  "language_info": {
   "codemirror_mode": {
    "name": "ipython",
    "version": 3
   },
   "file_extension": ".py",
   "mimetype": "text/x-python",
   "name": "python",
   "nbconvert_exporter": "python",
   "pygments_lexer": "ipython3",
   "version": "3.10.9"
  }
 },
 "nbformat": 4,
 "nbformat_minor": 5
}
